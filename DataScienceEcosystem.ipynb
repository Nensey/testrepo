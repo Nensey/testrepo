{
 "cells": [
  {
   "cell_type": "markdown",
   "id": "4af1c01a-1720-4a99-8d75-e641686d2ee3",
   "metadata": {},
   "source": [
    "# Data Science Tools and Ecosystem"
   ]
  },
  {
   "cell_type": "markdown",
   "id": "49ee17b6-4826-4d91-baac-22133b1ee37c",
   "metadata": {},
   "source": [
    "In this notebook, Data Science Tools and Ecosystems are summarized."
   ]
  },
  {
   "cell_type": "markdown",
   "id": "9463e249-4e0f-4afb-a017-67a0b20a30c8",
   "metadata": {},
   "source": [
    "**Objectives:**\n",
    "* List popular languages for Data Science\n",
    "* List commonly used libraries by Data Scientists\n",
    "* Data Science tools\n",
    "* Examples"
   ]
  },
  {
   "cell_type": "markdown",
   "id": "f0157087-046f-4b31-a327-7b0e08e98bc0",
   "metadata": {},
   "source": [
    "Some of the popular languages that Data Scientists use are:\n",
    "1. Python\n",
    "2. R\n",
    "3. SQL\n",
    "   "
   ]
  },
  {
   "cell_type": "markdown",
   "id": "452dabe8-94eb-4be3-a8ff-1fe14a44d7f4",
   "metadata": {},
   "source": [
    "Some of the commonly used libraries used by Data Scientists include:\n",
    "1. Pandas\n",
    "2. NumPy\n",
    "3. SciPy\n",
    "4. Matplotlib\n",
    "5. Seaborn\n",
    "6. Scikit-learn"
   ]
  },
  {
   "cell_type": "markdown",
   "id": "5c179927-86c1-4cef-b938-b4dd5ba84d9d",
   "metadata": {},
   "source": [
    "| Data Science Tools |\n",
    "| --------- |\n",
    "| Jupyter Notebooks |\n",
    "| Visual Studio Code (VS Code) |\n",
    "| RStudio |"
   ]
  },
  {
   "cell_type": "markdown",
   "id": "4ea7c80d-43ba-4f7c-a817-1fe9178d5e75",
   "metadata": {},
   "source": [
    "### Below are a few examples of evaluating arithmetic expressions in Python.\n",
    " ###"
   ]
  },
  {
   "cell_type": "code",
   "execution_count": 6,
   "id": "4a22b2d8-902d-4516-aab2-89912f2533da",
   "metadata": {},
   "outputs": [
    {
     "data": {
      "text/plain": [
       "17"
      ]
     },
     "execution_count": 6,
     "metadata": {},
     "output_type": "execute_result"
    }
   ],
   "source": [
    "(3*4)+5"
   ]
  },
  {
   "cell_type": "code",
   "execution_count": 9,
   "id": "539161df-1756-4625-87ba-0c4e3abd59af",
   "metadata": {},
   "outputs": [
    {
     "name": "stdout",
     "output_type": "stream",
     "text": [
      "3.3333333333333335 hours\n"
     ]
    }
   ],
   "source": [
    "# This will convert 200 minutes to hours by diving by 60.\n",
    "min = 200\n",
    "print(min/60, \"hours\")"
   ]
  },
  {
   "cell_type": "markdown",
   "id": "0ac7c515-506c-486e-a128-5527a9c88fce",
   "metadata": {},
   "source": [
    "## Author\n",
    "Nensey Vasaya"
   ]
  },
  {
   "cell_type": "code",
   "execution_count": null,
   "id": "5a0f043c-71a4-4d01-be0c-34f932496ef9",
   "metadata": {},
   "outputs": [],
   "source": []
  }
 ],
 "metadata": {
  "kernelspec": {
   "display_name": "Python 3 (ipykernel)",
   "language": "python",
   "name": "python3"
  },
  "language_info": {
   "codemirror_mode": {
    "name": "ipython",
    "version": 3
   },
   "file_extension": ".py",
   "mimetype": "text/x-python",
   "name": "python",
   "nbconvert_exporter": "python",
   "pygments_lexer": "ipython3",
   "version": "3.11.7"
  }
 },
 "nbformat": 4,
 "nbformat_minor": 5
}
